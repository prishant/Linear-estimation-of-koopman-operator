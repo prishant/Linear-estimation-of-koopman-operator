{
  "nbformat": 4,
  "nbformat_minor": 0,
  "metadata": {
    "colab": {
      "provenance": [],
      "machine_shape": "hm"
    },
    "kernelspec": {
      "name": "python3",
      "display_name": "Python 3"
    },
    "language_info": {
      "name": "python"
    }
  },
  "cells": [
    {
      "cell_type": "code",
      "execution_count": 1,
      "metadata": {
        "id": "xjKZzQSRVcoK"
      },
      "outputs": [],
      "source": [
        "import numpy as np\n",
        "from keras.models import Model\n",
        "from keras.layers import Input, Dense\n",
        "from keras.optimizers import Adam\n",
        "from sklearn.model_selection import train_test_split"
      ]
    },
    {
      "cell_type": "code",
      "source": [
        "# Define the nonlinear function\n",
        "def nonlinear_function(x):\n",
        "    return x+np.sin(x)"
      ],
      "metadata": {
        "id": "2K9ZSmbkWisu"
      },
      "execution_count": 2,
      "outputs": []
    },
    {
      "cell_type": "code",
      "source": [
        "# Number of arrays\n",
        "num_arrays = 5000\n",
        "# Size of each array\n",
        "array_size = 100\n",
        "\n",
        "# Initialize the array\n",
        "data_array = np.zeros((num_arrays, array_size))\n",
        "# Generate the first array x1\n",
        "x1 = np.linspace(-100, 100, num_arrays)\n",
        "\n",
        "data_array[:,0] = x1\n",
        "\n",
        "# Generate the remaining arrays\n",
        "for i in range(1, array_size):\n",
        "    data_array[:,i] = nonlinear_function(data_array[:,i-1])\n",
        "print(data_array[0:5, 0:5])"
      ],
      "metadata": {
        "colab": {
          "base_uri": "https://localhost:8080/"
        },
        "id": "o2LZWcMuWkeO",
        "outputId": "356aae90-6843-4360-9046-6ef99b78f744"
      },
      "execution_count": 3,
      "outputs": [
        {
          "output_type": "stream",
          "name": "stdout",
          "text": [
            "[[-100.          -99.49363436  -98.63258453  -97.68576208  -97.39369273]\n",
            " [ -99.959992    -99.41954111  -98.52321022  -97.61716719  -97.39133722]\n",
            " [ -99.919984    -99.3463128   -98.4199447   -97.56235115  -97.39023361]\n",
            " [ -99.879976    -99.27400262  -98.32284565  -97.51915404  -97.38973628]\n",
            " [ -99.83996799  -99.20266226  -98.23192005  -97.4855788   -97.3895206 ]]\n"
          ]
        }
      ]
    },
    {
      "cell_type": "code",
      "source": [
        "# Initialize the array\n",
        "data_array_op = np.zeros((num_arrays, array_size))\n",
        "\n",
        "data_array_op[:,0:(array_size-1)] = data_array[:,1:array_size]\n",
        "data_array_op[:,array_size-1] = nonlinear_function(data_array_op[:,array_size-2])"
      ],
      "metadata": {
        "id": "bVNNMleDqWoO"
      },
      "execution_count": 4,
      "outputs": []
    },
    {
      "cell_type": "code",
      "source": [
        "print(data_array_op[0:5, 0:5])"
      ],
      "metadata": {
        "colab": {
          "base_uri": "https://localhost:8080/"
        },
        "id": "xk8Ob79erZWm",
        "outputId": "427d123d-6ac3-437b-b3de-ae0e7abc401f"
      },
      "execution_count": 5,
      "outputs": [
        {
          "output_type": "stream",
          "name": "stdout",
          "text": [
            "[[-99.49363436 -98.63258453 -97.68576208 -97.39369273 -97.38937227]\n",
            " [-99.41954111 -98.52321022 -97.61716719 -97.39133722 -97.38937226]\n",
            " [-99.3463128  -98.4199447  -97.56235115 -97.39023361 -97.38937226]\n",
            " [-99.27400262 -98.32284565 -97.51915404 -97.38973628 -97.38937226]\n",
            " [-99.20266226 -98.23192005 -97.4855788  -97.3895206  -97.38937226]]\n"
          ]
        }
      ]
    },
    {
      "cell_type": "code",
      "source": [
        "# Split the input data into training and testing sets\n",
        "# Specify the split point\n",
        "split_point = int(0.8 * num_arrays)\n",
        "\n",
        "# Split the data into training and testing sets\n",
        "train_data = data_array[:split_point, :]\n",
        "test_data = data_array[split_point:, :]\n",
        "\n",
        "print(train_data[0:5, 0:5])\n",
        "print(test_data.shape)"
      ],
      "metadata": {
        "colab": {
          "base_uri": "https://localhost:8080/"
        },
        "id": "4g9Ro7BsiRA4",
        "outputId": "4fde5332-74ae-416a-d1c1-4436cc3bc32e"
      },
      "execution_count": 6,
      "outputs": [
        {
          "output_type": "stream",
          "name": "stdout",
          "text": [
            "[[-100.          -99.49363436  -98.63258453  -97.68576208  -97.39369273]\n",
            " [ -99.959992    -99.41954111  -98.52321022  -97.61716719  -97.39133722]\n",
            " [ -99.919984    -99.3463128   -98.4199447   -97.56235115  -97.39023361]\n",
            " [ -99.879976    -99.27400262  -98.32284565  -97.51915404  -97.38973628]\n",
            " [ -99.83996799  -99.20266226  -98.23192005  -97.4855788   -97.3895206 ]]\n",
            "(1000, 100)\n"
          ]
        }
      ]
    },
    {
      "cell_type": "code",
      "source": [
        "# Split the output data into training and testing sets\n",
        "train_data_op = data_array_op[:split_point, :]\n",
        "test_data_op = data_array_op[split_point:, :]\n",
        "\n",
        "print(train_data_op[0:5, 0:5])\n",
        "print(test_data_op.shape)"
      ],
      "metadata": {
        "colab": {
          "base_uri": "https://localhost:8080/"
        },
        "id": "79GW80P-q8e7",
        "outputId": "4d9aea96-c3c1-46ea-80ae-b578cd91fa65"
      },
      "execution_count": 7,
      "outputs": [
        {
          "output_type": "stream",
          "name": "stdout",
          "text": [
            "[[-99.49363436 -98.63258453 -97.68576208 -97.39369273 -97.38937227]\n",
            " [-99.41954111 -98.52321022 -97.61716719 -97.39133722 -97.38937226]\n",
            " [-99.3463128  -98.4199447  -97.56235115 -97.39023361 -97.38937226]\n",
            " [-99.27400262 -98.32284565 -97.51915404 -97.38973628 -97.38937226]\n",
            " [-99.20266226 -98.23192005 -97.4855788  -97.3895206  -97.38937226]]\n",
            "(1000, 100)\n"
          ]
        }
      ]
    },
    {
      "cell_type": "code",
      "source": [
        "print(train_data[0:5, 0:5])\n",
        "print(train_data_op[0:5, 0:5])"
      ],
      "metadata": {
        "colab": {
          "base_uri": "https://localhost:8080/"
        },
        "id": "vdBdtDdxrif_",
        "outputId": "6649287b-bd40-47ff-e520-192643217688"
      },
      "execution_count": 8,
      "outputs": [
        {
          "output_type": "stream",
          "name": "stdout",
          "text": [
            "[[-100.          -99.49363436  -98.63258453  -97.68576208  -97.39369273]\n",
            " [ -99.959992    -99.41954111  -98.52321022  -97.61716719  -97.39133722]\n",
            " [ -99.919984    -99.3463128   -98.4199447   -97.56235115  -97.39023361]\n",
            " [ -99.879976    -99.27400262  -98.32284565  -97.51915404  -97.38973628]\n",
            " [ -99.83996799  -99.20266226  -98.23192005  -97.4855788   -97.3895206 ]]\n",
            "[[-99.49363436 -98.63258453 -97.68576208 -97.39369273 -97.38937227]\n",
            " [-99.41954111 -98.52321022 -97.61716719 -97.39133722 -97.38937226]\n",
            " [-99.3463128  -98.4199447  -97.56235115 -97.39023361 -97.38937226]\n",
            " [-99.27400262 -98.32284565 -97.51915404 -97.38973628 -97.38937226]\n",
            " [-99.20266226 -98.23192005 -97.4855788  -97.3895206  -97.38937226]]\n"
          ]
        }
      ]
    },
    {
      "cell_type": "code",
      "source": [
        "shape=(array_size,)\n",
        "shape"
      ],
      "metadata": {
        "colab": {
          "base_uri": "https://localhost:8080/"
        },
        "id": "pMMabS5rkdgZ",
        "outputId": "b4535bb8-48c4-4ffa-e92f-33c16a3e7ca3"
      },
      "execution_count": 9,
      "outputs": [
        {
          "output_type": "execute_result",
          "data": {
            "text/plain": [
              "(100,)"
            ]
          },
          "metadata": {},
          "execution_count": 9
        }
      ]
    },
    {
      "cell_type": "code",
      "source": [
        "## Making an auto encoder architechture for finding the koopman operator\n",
        "# Define the encoder\n",
        "input_layer = Input(shape=(array_size,))\n",
        "encoded = Dense(256, activation='relu')(input_layer)\n",
        "encoded = Dense(128, activation='relu')(encoded)\n",
        "encoded = Dense(64, activation='relu')(encoded)\n",
        "encoded_output = Dense(array_size, activation='relu')(encoded)\n",
        "\n",
        "# Define linear layers in between\n",
        "linear_layer = Dense(array_size, activation='linear')(encoded_output)\n",
        "linear_layer = Dense(units=array_size, activation='linear')(linear_layer)\n",
        "\n",
        "# Define the decoder with output matching the input shape\n",
        "decoded = Dense(64, activation='relu')(linear_layer)\n",
        "decoded = Dense(128, activation='relu')(decoded)\n",
        "decoded = Dense(256, activation='relu')(decoded)\n",
        "decoded_output = Dense(array_size, activation='relu')(decoded)\n",
        "\n",
        "# Combine the encoder and decoder into an autoencoder model\n",
        "autoencoder = Model(inputs=input_layer, outputs=decoded_output)\n",
        "\n",
        "# Extract the encoder model\n",
        "encoder_model = Model(inputs=input_layer, outputs=encoded_output)"
      ],
      "metadata": {
        "id": "eodNfCv7iTxw"
      },
      "execution_count": 11,
      "outputs": []
    },
    {
      "cell_type": "code",
      "source": [
        "autoencoder.summary()"
      ],
      "metadata": {
        "colab": {
          "base_uri": "https://localhost:8080/"
        },
        "id": "PPnfbhK_pLvv",
        "outputId": "b92c12ec-8799-4064-c297-329bf3adbfdb"
      },
      "execution_count": 12,
      "outputs": [
        {
          "output_type": "stream",
          "name": "stdout",
          "text": [
            "Model: \"model\"\n",
            "_________________________________________________________________\n",
            " Layer (type)                Output Shape              Param #   \n",
            "=================================================================\n",
            " input_1 (InputLayer)        [(None, 100)]             0         \n",
            "                                                                 \n",
            " dense (Dense)               (None, 256)               25856     \n",
            "                                                                 \n",
            " dense_1 (Dense)             (None, 128)               32896     \n",
            "                                                                 \n",
            " dense_2 (Dense)             (None, 64)                8256      \n",
            "                                                                 \n",
            " dense_3 (Dense)             (None, 100)               6500      \n",
            "                                                                 \n",
            " dense_4 (Dense)             (None, 100)               10100     \n",
            "                                                                 \n",
            " dense_5 (Dense)             (None, 100)               10100     \n",
            "                                                                 \n",
            " dense_6 (Dense)             (None, 64)                6464      \n",
            "                                                                 \n",
            " dense_7 (Dense)             (None, 128)               8320      \n",
            "                                                                 \n",
            " dense_8 (Dense)             (None, 256)               33024     \n",
            "                                                                 \n",
            " dense_9 (Dense)             (None, 100)               25700     \n",
            "                                                                 \n",
            "=================================================================\n",
            "Total params: 167216 (653.19 KB)\n",
            "Trainable params: 167216 (653.19 KB)\n",
            "Non-trainable params: 0 (0.00 Byte)\n",
            "_________________________________________________________________\n"
          ]
        }
      ]
    },
    {
      "cell_type": "code",
      "source": [
        "encoder_model.summary()"
      ],
      "metadata": {
        "colab": {
          "base_uri": "https://localhost:8080/"
        },
        "id": "03VhDcA6pOs-",
        "outputId": "e3b57d44-a5d6-4113-f1c4-264ce55eb3cc"
      },
      "execution_count": 13,
      "outputs": [
        {
          "output_type": "stream",
          "name": "stdout",
          "text": [
            "Model: \"model_1\"\n",
            "_________________________________________________________________\n",
            " Layer (type)                Output Shape              Param #   \n",
            "=================================================================\n",
            " input_1 (InputLayer)        [(None, 100)]             0         \n",
            "                                                                 \n",
            " dense (Dense)               (None, 256)               25856     \n",
            "                                                                 \n",
            " dense_1 (Dense)             (None, 128)               32896     \n",
            "                                                                 \n",
            " dense_2 (Dense)             (None, 64)                8256      \n",
            "                                                                 \n",
            " dense_3 (Dense)             (None, 100)               6500      \n",
            "                                                                 \n",
            "=================================================================\n",
            "Total params: 73508 (287.14 KB)\n",
            "Trainable params: 73508 (287.14 KB)\n",
            "Non-trainable params: 0 (0.00 Byte)\n",
            "_________________________________________________________________\n"
          ]
        }
      ]
    },
    {
      "cell_type": "code",
      "source": [
        "# Compile the autoencoder model\n",
        "optimizer = 'Adam'\n",
        "autoencoder.compile(optimizer=optimizer, loss='mean_squared_error')"
      ],
      "metadata": {
        "id": "sMjnlaGaiWfQ"
      },
      "execution_count": 14,
      "outputs": []
    },
    {
      "cell_type": "code",
      "source": [
        "# Train the autoencoder\n",
        "num_epochs = 25\n",
        "batch_size = 32\n",
        "\n",
        "autoencoder.fit(train_data, train_data_op, epochs=num_epochs, batch_size=batch_size, validation_data=(test_data, test_data_op))"
      ],
      "metadata": {
        "colab": {
          "base_uri": "https://localhost:8080/"
        },
        "id": "UmSOC7j8iYox",
        "outputId": "535972fb-5347-41c4-a270-ff83d2535734"
      },
      "execution_count": 15,
      "outputs": [
        {
          "output_type": "stream",
          "name": "stdout",
          "text": [
            "Epoch 1/25\n",
            "125/125 [==============================] - 2s 5ms/step - loss: 2276.3938 - val_loss: 2544.3831\n",
            "Epoch 2/25\n",
            "125/125 [==============================] - 0s 4ms/step - loss: 2260.3953 - val_loss: 2544.3738\n",
            "Epoch 3/25\n",
            "125/125 [==============================] - 1s 4ms/step - loss: 2260.3953 - val_loss: 2544.4006\n",
            "Epoch 4/25\n",
            "125/125 [==============================] - 1s 5ms/step - loss: 2260.3955 - val_loss: 2544.3962\n",
            "Epoch 5/25\n",
            "125/125 [==============================] - 1s 4ms/step - loss: 2260.3953 - val_loss: 2544.3835\n",
            "Epoch 6/25\n",
            "125/125 [==============================] - 1s 4ms/step - loss: 2260.3953 - val_loss: 2544.3870\n",
            "Epoch 7/25\n",
            "125/125 [==============================] - 0s 4ms/step - loss: 2260.4023 - val_loss: 2544.3796\n",
            "Epoch 8/25\n",
            "125/125 [==============================] - 1s 4ms/step - loss: 2260.4299 - val_loss: 2545.8730\n",
            "Epoch 9/25\n",
            "125/125 [==============================] - 1s 5ms/step - loss: 2260.4500 - val_loss: 2544.4199\n",
            "Epoch 10/25\n",
            "125/125 [==============================] - 1s 4ms/step - loss: 2261.7988 - val_loss: 2850.5605\n",
            "Epoch 11/25\n",
            "125/125 [==============================] - 0s 4ms/step - loss: 2258.1011 - val_loss: 2479.1492\n",
            "Epoch 12/25\n",
            "125/125 [==============================] - 1s 4ms/step - loss: 2255.8669 - val_loss: 2479.2056\n",
            "Epoch 13/25\n",
            "125/125 [==============================] - 1s 4ms/step - loss: 2255.8689 - val_loss: 2479.1355\n",
            "Epoch 14/25\n",
            "125/125 [==============================] - 1s 4ms/step - loss: 2255.8667 - val_loss: 2479.1792\n",
            "Epoch 15/25\n",
            "125/125 [==============================] - 1s 4ms/step - loss: 2255.8684 - val_loss: 2479.1411\n",
            "Epoch 16/25\n",
            "125/125 [==============================] - 1s 4ms/step - loss: 2255.8662 - val_loss: 2479.1938\n",
            "Epoch 17/25\n",
            "125/125 [==============================] - 1s 5ms/step - loss: 2255.8684 - val_loss: 2479.1514\n",
            "Epoch 18/25\n",
            "125/125 [==============================] - 1s 4ms/step - loss: 2255.8760 - val_loss: 2479.1794\n",
            "Epoch 19/25\n",
            "125/125 [==============================] - 1s 5ms/step - loss: 2255.9604 - val_loss: 2479.1675\n",
            "Epoch 20/25\n",
            "125/125 [==============================] - 0s 4ms/step - loss: 2255.9048 - val_loss: 2479.1670\n",
            "Epoch 21/25\n",
            "125/125 [==============================] - 0s 4ms/step - loss: 2255.8687 - val_loss: 2479.1604\n",
            "Epoch 22/25\n",
            "125/125 [==============================] - 0s 4ms/step - loss: 2255.8687 - val_loss: 2479.2007\n",
            "Epoch 23/25\n",
            "125/125 [==============================] - 0s 3ms/step - loss: 2255.8809 - val_loss: 2479.3257\n",
            "Epoch 24/25\n",
            "125/125 [==============================] - 0s 3ms/step - loss: 2256.3931 - val_loss: 2520.7817\n",
            "Epoch 25/25\n",
            "125/125 [==============================] - 0s 3ms/step - loss: 2256.4922 - val_loss: 2479.4761\n"
          ]
        },
        {
          "output_type": "execute_result",
          "data": {
            "text/plain": [
              "<keras.src.callbacks.History at 0x7bade8603220>"
            ]
          },
          "metadata": {},
          "execution_count": 15
        }
      ]
    },
    {
      "cell_type": "code",
      "source": [
        "# Encode the data into lower dimension\n",
        "encoded_data = encoder_model.predict(data_array)\n",
        "\n",
        "# Print the shape of the encoded data as the input of the linear layer\n",
        "print(\"Shape of encoded data:\", encoded_data.shape)"
      ],
      "metadata": {
        "id": "aUYbpBudia-C",
        "colab": {
          "base_uri": "https://localhost:8080/"
        },
        "outputId": "3b2211c9-a37d-4760-8ccb-a03f8b704b41"
      },
      "execution_count": 16,
      "outputs": [
        {
          "output_type": "stream",
          "name": "stdout",
          "text": [
            "157/157 [==============================] - 0s 1ms/step\n",
            "Shape of encoded data: (5000, 100)\n"
          ]
        }
      ]
    },
    {
      "cell_type": "code",
      "source": [
        "encoded_data"
      ],
      "metadata": {
        "id": "iBkSHYN8slN9",
        "colab": {
          "base_uri": "https://localhost:8080/"
        },
        "outputId": "39b23a44-0ebb-4038-ca2e-65e18e13e232"
      },
      "execution_count": 17,
      "outputs": [
        {
          "output_type": "execute_result",
          "data": {
            "text/plain": [
              "array([[ 16.403625 ,   0.       ,  13.11579  , ...,  47.513237 ,\n",
              "          0.       ,   0.       ],\n",
              "       [ 16.399876 ,   0.       ,  13.113583 , ...,  47.513733 ,\n",
              "          0.       ,   0.       ],\n",
              "       [ 16.396395 ,   0.       ,  13.111646 , ...,  47.513992 ,\n",
              "          0.       ,   0.       ],\n",
              "       ...,\n",
              "       [259.51788  ,   0.       ,   6.5843005, ...,   0.       ,\n",
              "        179.84688  ,   0.       ],\n",
              "       [259.52878  ,   0.       ,   6.588547 , ...,   0.       ,\n",
              "        179.85014  ,   0.       ],\n",
              "       [259.5407   ,   0.       ,   6.5931435, ...,   0.       ,\n",
              "        179.8535   ,   0.       ]], dtype=float32)"
            ]
          },
          "metadata": {},
          "execution_count": 17
        }
      ]
    },
    {
      "cell_type": "code",
      "source": [
        "# Extract the linear model from the model autoencoder to find out the weights\n",
        "linear_model = Model(inputs=encoded_output, outputs=linear_layer)\n",
        "linear_model.summary()"
      ],
      "metadata": {
        "id": "TUVpgaOylReZ",
        "colab": {
          "base_uri": "https://localhost:8080/"
        },
        "outputId": "46db3928-cf4d-4520-d979-4e45bb4d1d5c"
      },
      "execution_count": 18,
      "outputs": [
        {
          "output_type": "stream",
          "name": "stdout",
          "text": [
            "Model: \"model_2\"\n",
            "_________________________________________________________________\n",
            " Layer (type)                Output Shape              Param #   \n",
            "=================================================================\n",
            " input_2 (InputLayer)        [(None, 100)]             0         \n",
            "                                                                 \n",
            " dense_4 (Dense)             (None, 100)               10100     \n",
            "                                                                 \n",
            " dense_5 (Dense)             (None, 100)               10100     \n",
            "                                                                 \n",
            "=================================================================\n",
            "Total params: 20200 (78.91 KB)\n",
            "Trainable params: 20200 (78.91 KB)\n",
            "Non-trainable params: 0 (0.00 Byte)\n",
            "_________________________________________________________________\n"
          ]
        }
      ]
    },
    {
      "cell_type": "code",
      "source": [
        "# Size of each array\n",
        "array_size = array_size\n",
        "# Initialize the array\n",
        "lin_array = np.zeros((num_arrays, array_size))\n",
        "# Generate the first array x1\n",
        "x1 = np.linspace(-3*np.pi, 3*np.pi, num_arrays)\n",
        "\n",
        "lin_array[:,0] = x1\n",
        "\n",
        "# Generate the remaining arrays\n",
        "for i in range(1, array_size):\n",
        "    lin_array[:,i] = nonlinear_function(lin_array[:,i-1])\n",
        "print(lin_array.shape)\n",
        "\n",
        "# Initialize the array\n",
        "lin_array_op = np.zeros((num_arrays, array_size))\n",
        "lin_array_op[:,0:array_size-1] = lin_array[:,1:array_size]\n",
        "lin_array_op[:,array_size-1] = nonlinear_function(lin_array_op[:,array_size-2])\n",
        "\n",
        "# Encode the data into lower dimension\n",
        "linear_data = linear_model.predict(lin_array)\n",
        "\n",
        "# Print the shape of the encoded data\n",
        "print(\"Shape of linear data:\", linear_data.shape)"
      ],
      "metadata": {
        "id": "sDX423jatADI",
        "colab": {
          "base_uri": "https://localhost:8080/"
        },
        "outputId": "efdc26c9-d470-466b-fd58-e5762ef9d6a1"
      },
      "execution_count": 19,
      "outputs": [
        {
          "output_type": "stream",
          "name": "stdout",
          "text": [
            "(5000, 100)\n",
            "157/157 [==============================] - 0s 1ms/step\n",
            "Shape of linear data: (5000, 100)\n"
          ]
        }
      ]
    },
    {
      "cell_type": "code",
      "source": [
        "# Plot the actual non-linear function and the linear model's output\n",
        "import matplotlib.pyplot as plt\n",
        "\n",
        "i=0\n",
        "plt.figure(figsize=(10, 6))\n",
        "plt.plot(lin_array[:,i], lin_array_op[:,i], label='Actual Non-Linear Function', color='blue')\n",
        "plt.plot(lin_array[:,i], linear_data[:,i], label='Linear Model Output', linestyle='dashed', color='red')\n",
        "plt.title('Comparison of Actual Non-Linear Function and Linear Model Output')\n",
        "plt.xlabel('values')\n",
        "plt.ylabel('Output')\n",
        "plt.legend()\n",
        "plt.show()"
      ],
      "metadata": {
        "id": "Y1rdf27yuV0I",
        "colab": {
          "base_uri": "https://localhost:8080/",
          "height": 564
        },
        "outputId": "adaed7d1-1643-454d-a391-df1d63068d42"
      },
      "execution_count": 45,
      "outputs": [
        {
          "output_type": "display_data",
          "data": {
            "text/plain": [
              "<Figure size 1000x600 with 1 Axes>"
            ],
            "image/png": "[encoded data removed]"
          },
          "metadata": {}
        }
      ]
    },
    {
      "cell_type": "code",
      "source": [
        "koopman_operator = linear_model.get_weights()\n",
        "print(koopman_operator)"
      ],
      "metadata": {
        "colab": {
          "base_uri": "https://localhost:8080/"
        },
        "id": "Ea28gUeHCNaQ",
        "outputId": "1a3a33df-5fe9-43d8-9da9-fdcc018ea76b"
      },
      "execution_count": 26,
      "outputs": [
        {
          "output_type": "stream",
          "name": "stdout",
          "text": [
            "[array([[ 0.13183057, -0.13001366,  0.01786576, ..., -0.13131349,\n",
            "        -0.00044146, -0.08633948],\n",
            "       [-0.04580077, -0.08297091,  0.09217127, ..., -0.02074719,\n",
            "        -0.12188008,  0.10889303],\n",
            "       [-0.14240827, -0.14140967, -0.08515951, ...,  0.13554852,\n",
            "         0.12440833, -0.08389539],\n",
            "       ...,\n",
            "       [-0.13085744, -0.15008652,  0.04150895, ..., -0.0650198 ,\n",
            "         0.04602874, -0.04054699],\n",
            "       [ 0.02550942,  0.00060348, -0.11395479, ..., -0.10909653,\n",
            "         0.12352225, -0.11015955],\n",
            "       [ 0.09563655,  0.00739688,  0.10268835, ..., -0.00722825,\n",
            "        -0.10020103,  0.15944295]], dtype=float32), array([ 0.00522848,  0.01182333,  0.01105047,  0.00371516,  0.01825727,\n",
            "        0.00528373,  0.01087973,  0.0037959 ,  0.00536486, -0.00097181,\n",
            "       -0.01764757, -0.01719809, -0.00141231,  0.01020298,  0.00822527,\n",
            "       -0.00302311, -0.00371793, -0.0070655 , -0.00036187,  0.00717531,\n",
            "        0.00464839, -0.00364766, -0.00366432,  0.00541219,  0.00847334,\n",
            "       -0.00940415,  0.00417672,  0.00385028, -0.00096142, -0.00483742,\n",
            "        0.00900718, -0.00851796,  0.01017313,  0.00295558, -0.02131191,\n",
            "        0.00442222, -0.00455709, -0.00631004,  0.00090501, -0.0097919 ,\n",
            "        0.00795774,  0.01546551,  0.00879765, -0.01497506, -0.00261806,\n",
            "        0.00844451,  0.01028212,  0.01891145,  0.00441392,  0.01227621,\n",
            "       -0.00258037,  0.00119235, -0.00289039, -0.01072582, -0.00644818,\n",
            "       -0.01560601,  0.00723946, -0.00308555,  0.00957937, -0.00905953,\n",
            "        0.00282068,  0.01428182, -0.00073489, -0.00934009, -0.00825697,\n",
            "       -0.00354752,  0.00044908,  0.00829602, -0.00597804,  0.00804465,\n",
            "       -0.00257984,  0.00391243, -0.00081495,  0.00010214, -0.00884428,\n",
            "       -0.00850691,  0.00027535, -0.01368852,  0.0038759 ,  0.00829068,\n",
            "       -0.00783145,  0.00698163,  0.0021815 , -0.00203186, -0.00062396,\n",
            "       -0.00244605, -0.00064132,  0.00560722,  0.00784755, -0.00027708,\n",
            "        0.00798287,  0.00200234,  0.00012035,  0.00374795,  0.00702334,\n",
            "       -0.00028211, -0.00199073,  0.00018695, -0.00086885, -0.0085877 ],\n",
            "      dtype=float32), array([[ 0.16109608,  0.15262346, -0.13542855, ..., -0.10686871,\n",
            "        -0.06288571,  0.06533969],\n",
            "       [-0.11594322, -0.07814524, -0.05076014, ...,  0.12446159,\n",
            "         0.14532532,  0.00123624],\n",
            "       [ 0.10892003, -0.00870183, -0.11612346, ..., -0.04603705,\n",
            "         0.00025216, -0.05093952],\n",
            "       ...,\n",
            "       [ 0.10602582, -0.11517743, -0.01479364, ...,  0.17324544,\n",
            "         0.07469796, -0.01113361],\n",
            "       [-0.1094236 , -0.0702688 , -0.15772301, ..., -0.08533358,\n",
            "         0.116221  ,  0.06598941],\n",
            "       [-0.09684888, -0.15353622, -0.12857144, ...,  0.16116048,\n",
            "        -0.03767299, -0.11712521]], dtype=float32), array([ 0.00661598, -0.01380219, -0.00939335, -0.00091044,  0.00495891,\n",
            "       -0.00672633, -0.00195258, -0.00032261,  0.00425244, -0.00667281,\n",
            "        0.00994588,  0.01591382, -0.00914515, -0.00334716,  0.00663959,\n",
            "        0.00808332,  0.01056251,  0.00845238,  0.00323707,  0.00939606,\n",
            "       -0.01823278,  0.00098734, -0.00490779,  0.00888104,  0.00955949,\n",
            "       -0.00642466, -0.01955494,  0.01018073, -0.0047922 ,  0.00478982,\n",
            "       -0.00795685,  0.01184919, -0.01600467, -0.00376393, -0.00108349,\n",
            "        0.0076657 ,  0.00733094, -0.01714146,  0.01229303, -0.01614651,\n",
            "        0.00418172, -0.00120609,  0.00263815, -0.01067216,  0.00409806,\n",
            "        0.0008914 ,  0.00570116, -0.0010929 ,  0.00641644, -0.00235563,\n",
            "        0.01304842, -0.0061628 , -0.01430716, -0.00228675, -0.01299796,\n",
            "       -0.00050461,  0.00790393,  0.00365406, -0.00262465,  0.00476677,\n",
            "        0.01109895, -0.00563023, -0.01781743, -0.00465284, -0.00227483,\n",
            "       -0.00700778,  0.00735377, -0.00461832,  0.01748066, -0.00107418,\n",
            "        0.00894851,  0.0135377 ,  0.00690026,  0.00565918,  0.00995174,\n",
            "       -0.00581562, -0.00213182, -0.0041153 , -0.00582473, -0.00218808,\n",
            "        0.01116978,  0.01576765,  0.00256814, -0.00692748,  0.0083696 ,\n",
            "        0.01870504,  0.01439398,  0.00190974,  0.00522779,  0.0044612 ,\n",
            "        0.00909585, -0.00343015, -0.00783655, -0.01420158,  0.01706745,\n",
            "        0.00011633,  0.02427653, -0.00125311, -0.01855489,  0.02073641],\n",
            "      dtype=float32)]\n"
          ]
        }
      ]
    },
    {
      "cell_type": "code",
      "source": [
        "i=0\n",
        "xt = lin_array[:,i]\n",
        "yt = lin_array_op[:,i]\n",
        "ypred = linear_data[:,i]"
      ],
      "metadata": {
        "id": "sCZxo0Gh94Cr"
      },
      "execution_count": 42,
      "outputs": []
    },
    {
      "cell_type": "code",
      "source": [
        "# Calculate Mean Squared Error (MSE)\n",
        "from sklearn.metrics import mean_squared_error,r2_score\n",
        "mse = mean_squared_error(yt,ypred)\n",
        "print(f'Mean Squared Error: {mse}')\n",
        "\n",
        "# Calculate R-squared\n",
        "r2 = r2_score(yt,ypred)\n",
        "print(f'R-squared: {r2}')"
      ],
      "metadata": {
        "colab": {
          "base_uri": "https://localhost:8080/"
        },
        "id": "T2cucViJCv3i",
        "outputId": "092062a1-6398-45a3-82d2-64a5e6a2c513"
      },
      "execution_count": 43,
      "outputs": [
        {
          "output_type": "stream",
          "name": "stdout",
          "text": [
            "Mean Squared Error: 2.3222552404849868\n",
            "R-squared: 0.9277009990919212\n"
          ]
        }
      ]
    },
    {
      "cell_type": "code",
      "source": [
        "# Plot Residuals\n",
        "residuals = ypred - yt\n",
        "plt.figure(figsize=(6, 4))\n",
        "plt.scatter(xt, residuals, label='Residuals', color='green')\n",
        "plt.axhline(y=0, color='black', linestyle='--', label='Zero Residuals Line')\n",
        "plt.title('Residuals')\n",
        "plt.xlabel('Input')\n",
        "plt.ylabel('Residuals')\n",
        "plt.legend()"
      ],
      "metadata": {
        "colab": {
          "base_uri": "https://localhost:8080/",
          "height": 427
        },
        "id": "o7B2MCt1DcUf",
        "outputId": "827025b7-f1e8-4cfc-8398-1dec98498285"
      },
      "execution_count": 44,
      "outputs": [
        {
          "output_type": "execute_result",
          "data": {
            "text/plain": [
              "<matplotlib.legend.Legend at 0x7bade8312890>"
            ]
          },
          "metadata": {},
          "execution_count": 44
        },
        {
          "output_type": "display_data",
          "data": {
            "text/plain": [
              "<Figure size 600x400 with 1 Axes>"
            ],
            "image/png": "[encoded data removed]"
          },
          "metadata": {}
        }
      ]
    },
    {
      "cell_type": "code",
      "source": [],
      "metadata": {
        "id": "RO0GgWb-Ey2g"
      },
      "execution_count": 32,
      "outputs": []
    },
    {
      "cell_type": "code",
      "source": [
        "# Get and save all model weights\n",
        "weights_path = 'autoencodermodel_weights.h5'\n",
        "autoencoder.save_weights(weights_path)\n",
        "\n",
        "weights_path = 'linearmodel_weights.h5'\n",
        "linear_model.save_weights(weights_path)"
      ],
      "metadata": {
        "id": "funPZTsHsRFZ"
      },
      "execution_count": 22,
      "outputs": []
    },
    {
      "cell_type": "code",
      "source": [
        "# Specify the file path where you want to save the array\n",
        "file_path = 'lin_array.npy'\n",
        "np.save(file_path, lin_array)\n",
        "file_path = 'lin_array_op.npy'\n",
        "np.save(file_path, lin_array_op)\n",
        "file_path = 'linear_data.npy'\n",
        "np.save(file_path, linear_data)"
      ],
      "metadata": {
        "id": "2iAjXTfOs3M9"
      },
      "execution_count": 23,
      "outputs": []
    }
  ]
}